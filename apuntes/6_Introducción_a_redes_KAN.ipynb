{
  "nbformat": 4,
  "nbformat_minor": 0,
  "metadata": {
    "colab": {
      "provenance": [],
      "toc_visible": true,
      "include_colab_link": true
    },
    "kernelspec": {
      "name": "python3",
      "display_name": "Python 3"
    },
    "language_info": {
      "name": "python"
    }
  },
  "cells": [
    {
      "cell_type": "markdown",
      "metadata": {
        "id": "view-in-github",
        "colab_type": "text"
      },
      "source": [
        "<a href=\"https://colab.research.google.com/github/anadiedrichs/curso_deep_learning/blob/main/6_Introducci%C3%B3n_a_redes_KAN.ipynb\" target=\"_parent\"><img src=\"https://colab.research.google.com/assets/colab-badge.svg\" alt=\"Open In Colab\"/></a>"
      ]
    },
    {
      "cell_type": "markdown",
      "source": [
        "# Kolmogorov - Arnold Networks (KAN)"
      ],
      "metadata": {
        "id": "eLOQVD6B9oYL"
      }
    },
    {
      "cell_type": "markdown",
      "source": [
        "## 💡 Motivación\n",
        "\n",
        "Ya conocen bien el mundo del *machine learning* y cómo las Redes Neuronales Multicapa (MLP) han sido las estrellas del espectáculo. Pero, ¿qué tal si les digo que hay un nuevo contendiente en el ring que podría cambiar las reglas del juego? Les presento a las **Redes KAN (Kolmogorov-Arnold Networks)**.\n",
        "\n",
        "Imaginen esto: el famoso **Teorema de Kolmogorov-Arnold** nos dice algo alucinante: cualquier función compleja que dependa de muchas variables (¡como las que enfrentamos en nuestros modelos!) puede, en teoría, descomponerse en sumas y composiciones de funciones más simples, ¡funciones de una sola variable! Las KAN toman esta idea matemática poderosa y la convierten en una arquitectura de red. En lugar de las tradicionales neuronas con una simple activación lineal y luego una no linealidad fija, las KAN utilizan funciones de activación *aprendibles* en cada conexión. ¡Es como si cada cable de la red tuviera su propia mini-calculadora inteligente!\n",
        "\n",
        "¿Y cuál es el resultado? Para ciertas tareas, las KAN están demostrando ser no solo más eficientes, sino también más precisas que nuestras queridas MLP. Piénsenlo: podrían obtener mejores resultados con modelos potencialmente más pequeños y fáciles de interpretar.\n",
        "\n",
        "Sumergirse en las KAN no es solo añadir otra herramienta a su arsenal. Es profundizar en los cimientos matemáticos del *deep learning* y, lo más emocionante, es abrir la puerta a soluciones innovadoras para modelar datos complejos, optimizar procesos como nunca antes y resolver esos problemas que nos quitan el sueño.\n",
        "\n",
        "Entender y dominar cómo funcionan las KAN es su pase para estar en la cresta de la ola, desarrollando sistemas de inteligencia artificial que no solo sean potentes, sino también más transparentes y eficaces. ¡Prepárense para explorar una nueva frontera en la IA!"
      ],
      "metadata": {
        "id": "6m0bKt50IzZu"
      }
    },
    {
      "cell_type": "markdown",
      "source": [
        "## 🧠 Repaso de redes neuronales ( MLP )\n"
      ],
      "metadata": {
        "id": "1eOyeZtGtuRp"
      }
    },
    {
      "cell_type": "markdown",
      "source": [
        "Siendo $f$ alguna función de activación (Sigmoide, ReLU, tanh, etc), $x$ las features de entrada, $w$ los pesos o coeficientes de la red neuronal, $b$ el coeficiente bias, podemos definir una red neuronal de una sola capa como se indica en la siguiente fórmula."
      ],
      "metadata": {
        "id": "o_j1vd8dss6g"
      }
    },
    {
      "cell_type": "markdown",
      "source": [
        "$$\n",
        "  z = f \\left( \\sum_{i=1}^{n} w_i x_i + b \\right) $$"
      ],
      "metadata": {
        "id": "jRJIyxF8sZy8"
      }
    },
    {
      "cell_type": "markdown",
      "source": [
        " O en notación matricial / vectorial:\n",
        "\n",
        " $$ z = f(Wx + b )$$"
      ],
      "metadata": {
        "id": "dz-xoLcntRuB"
      }
    },
    {
      "cell_type": "markdown",
      "source": [
        "Antes de entrenar una MLP definimos hiperparámetros como en número de capas, la cantidad de unidades ocultas por capa, funciones de activación a aplicar en cada capa."
      ],
      "metadata": {
        "id": "hq40hhIitb1g"
      }
    },
    {
      "cell_type": "markdown",
      "source": [
        "En el siguiente gráfico observamos una representación de MLP donde:\n",
        "\n",
        "* los círculos verdes son las variables (features) de entrada (representadas por el vector $x$ o individualmente como $x_1$ y $x_2$)\n",
        "* los círculos naranjas son las capas ocultas. Observamos dos capas ocultas.\n",
        "* la primer capa oculta con 4 unidades ($w_1$) y la segunda capa oculta con dos unidades ($w_2$).\n",
        "* en celeste se representa la capa de salida de la red.\n",
        "* cada línea representa una interacción entre el valor del nodo y un peso de la red"
      ],
      "metadata": {
        "id": "5QLjcDS6uD_I"
      }
    },
    {
      "cell_type": "markdown",
      "source": [
        "\n",
        "\n",
        "![](https://www.dailydoseofds.com/content/images/size/w1000/2024/05/image-58.png)\n"
      ],
      "metadata": {
        "id": "gAu9QUADngyu"
      }
    },
    {
      "cell_type": "markdown",
      "source": [
        "## Simulación en playground\n",
        "\n",
        "https://playground.tensorflow.org/"
      ],
      "metadata": {
        "id": "68KvMW7oyCxy"
      }
    },
    {
      "cell_type": "markdown",
      "source": [
        "## Funciones lineales vs no lineal\n",
        "\n",
        "En el contexto de **matemática** y **machine learning**, las funciones **lineales** y **no lineales** se diferencian por cómo relacionan sus variables de entrada con la salida.\n",
        "\n"
      ],
      "metadata": {
        "id": "59MijQZ8hAu7"
      }
    },
    {
      "cell_type": "markdown",
      "source": [
        "### Función **lineal**:\n",
        "Una función es **lineal** si puede escribirse como una combinación lineal de sus variables, es decir:\n",
        "\n",
        "$$ f(x) = w_1 x_1 + w_2 x_2 + \\dots + w_n x_n + b $$\n",
        "\n",
        "Donde:\n",
        "- $ x_i $ son las variables de entrada.\n",
        "- $ w_i $ son los coeficientes o pesos.\n",
        "- $ b $ es una constante (término independiente).\n",
        "- La gráfica de una función lineal en 2D es una **línea recta** y en n dimensiones es un **hiperplano**.\n",
        "\n",
        "💡 En **machine learning**, un modelo lineal (como la **regresión lineal**) asume que la salida es una función lineal de las entradas.\n",
        "\n"
      ],
      "metadata": {
        "id": "5QALeOqHhDS3"
      }
    },
    {
      "cell_type": "markdown",
      "source": [
        "\n",
        "\n",
        "###  Función **no lineal**:\n",
        "Una función es **no lineal** si **no puede** representarse como una suma ponderada simple de las variables. Incluye términos como:\n",
        "\n",
        "- Polinomios de grado mayor a 1: $ x^2, x^3, \\dots $\n",
        "- Funciones trigonométricas: $ \\sin(x), \\cos(x) $\n",
        "- Funciones exponenciales o logarítmicas: $ e^x, \\log(x) $\n",
        "- Funciones compuestas: $ \\text{ReLU}(w^T x + b), \\tanh(x), \\sigma(x) $\n",
        "\n",
        "💡 En **machine learning**, modelos como las **redes neuronales**, **árboles de decisión**, o **SVM con kernel** pueden aprender relaciones no lineales, lo que los hace más flexibles para representar patrones complejos.\n",
        "\n",
        "### Ejemplo simple:\n",
        "- Lineal: $ f(x) = 3x + 2 $\n",
        "- No lineal: $ f(x) = x^2 + 2 $\n"
      ],
      "metadata": {
        "id": "tN2_yEB_xKTh"
      }
    },
    {
      "cell_type": "markdown",
      "source": [
        "# 🤯 Redes KAN"
      ],
      "metadata": {
        "id": "RcKdG3KBzGHZ"
      }
    },
    {
      "cell_type": "markdown",
      "source": [
        "## Introducción"
      ],
      "metadata": {
        "id": "ukDNI3agzIYN"
      }
    },
    {
      "cell_type": "markdown",
      "source": [
        "Así es como observamos una red neuronal.\n",
        "\n",
        "![](https://www.dailydoseofds.com/content/images/2024/05/Screenshot-2024-05-18-at-3.15.37-PM.png)\n",
        "\n",
        "Hemos trabajado construido antes MLP con matrices de pesos convencionales.\n",
        "\n",
        "Sin embargo, las KANs se basan en una idea diferente. Las matrices que poseen en una capa no contienen pesos, sino funciones, las cuales se aplican a la entrada de dicha capa.\n",
        "\n",
        "![](https://www.dailydoseofds.com/content/images/size/w1000/2024/05/image-90.png)\n",
        "\n",
        "Comencemos!"
      ],
      "metadata": {
        "id": "v83zs1kTOj-8"
      }
    },
    {
      "cell_type": "markdown",
      "source": [
        "\n",
        "Las KANs desafían el diseño tradicional de las redes neuronales y ofrecen un nuevo paradigma para diseñarlas y entrenarlas.\n",
        "\n",
        "En resumen, la idea es que, en lugar de simplemente apilar muchas capas una sobre otra (las cuales son siempre transformaciones lineales, y donde introducimos la no linealidad de forma deliberada mediante funciones de activación), las KANs proponen un enfoque alternativo.\n",
        "\n",
        "Los autores utilizaron funciones complejas aprendibles (llamadas B-Splines) que permiten representar directamente transformaciones no lineales de la entrada, utilizando relativamente menos parámetros que una red neuronal tradicional.\n",
        "\n",
        "![](https://www.dailydoseofds.com/content/images/size/w1000/2024/05/image-60.png)\n",
        "\n",
        "En la imagen anterior, si prestás atención:\n",
        "\n",
        "* En una red neuronal, las funciones de activación son fijas en toda la red y están ubicadas en cada nodo (como se muestra a continuación).\n",
        "\n",
        "* En cambio, en una KAN, las funciones de activación se encuentran en las aristas (que corresponden a los pesos en una red neuronal tradicional), y cada arista tiene una función de activación diferente.\n",
        "\n",
        "Por lo tanto, es evidente esperar que las KANs sean mucho más precisas e interpretables con menos parámetros.\n",
        "\n",
        "Están basadas en el **Teorema de Representación de Kolmogorov-Arnold**, el cual afirma que cualquier función continua multivariable puede representarse como la composición de un número finito de funciones continuas de una sola variable.\n",
        "\n",
        "![](https://www.dailydoseofds.com/content/images/size/w1000/2024/05/image-70.png)\n",
        "\n",
        "Si desarrollamos los términos de la suma, obtenemos lo siguiente:\n",
        "\n",
        "![](https://www.dailydoseofds.com/content/images/size/w1000/2024/05/image-77.png)\n",
        "\n",
        "Para resumir todo, lo que hacemos en una sola capa de una KAN es tomar la entrada $(x_1, x_2, \\dots, x_n)$ y aplicarle una transformación $\\phi$.\n",
        "\n",
        "![](https://www.dailydoseofds.com/content/images/2024/05/image-83.png)\n",
        "\n",
        "Por lo tanto, la matriz de transformación $\\Phi_1$ (correspondiente a la primera capa) puede representarse de la siguiente manera:\n",
        "\n",
        "![](https://www.dailydoseofds.com/content/images/2024/05/image-84.png)\n",
        "\n",
        "En la matriz anterior:\n",
        "\n",
        "- $n$ representa la cantidad de entradas.  \n",
        "- $m$ representa la cantidad de nodos de salida en esa capa.  \n",
        "- $\\phi_{mn}$**[IMPORTANTE] Cada elemento de la matriz no son números, sino funciones univariadas.** Por ejemplo:\n",
        "  - $\\phi_{11}$ podría ser $7x^2 - 3x + 1$.  \n",
        "  - $\\phi_{12}$ podría ser $3x^3 + 5x^2 + x - 7$.  \n",
        "  - y así sucesivamente...\n",
        "\n",
        "Entonces, para generar una transformación, todo lo que tenemos que hacer es tomar el vector de entrada y pasarlo por las funciones correspondientes en la matriz de transformación anterior:\n",
        "\n",
        "![](https://www.dailydoseofds.com/content/images/2024/05/image-85.png)\n",
        "\n",
        "Esto brinda como resultado el siguiente vector:\n",
        "\n",
        "![](https://www.dailydoseofds.com/content/images/2024/05/image-86.png)\n",
        "\n",
        "Lo anterior es la salida de la primera capa, la cual luego se pasa a la siguiente capa para otra transformación mediante funciones.\n",
        "\n",
        "Por lo tanto, toda la red KAN puede condensarse en una sola fórmula de la siguiente manera:\n",
        "\n",
        "![](https://www.dailydoseofds.com/content/images/size/w1000/2024/05/image-87.png)\n",
        "\n",
        "Donde:\n",
        "\n",
        "- $x$ representa el vector de entrada.  \n",
        "- $\\phi^k$ representa la matriz de transformación funcional de la capa $k$.  \n",
        "- $KAN(x)$ es la salida de la red KAN.\n",
        "\n",
        "En el caso de las KANs, las matrices $\\phi^k$ son matrices de transformación no lineales, y cada función univariada puede ser bastante diferente.\n",
        "\n",
        "Pero, ¿cómo estimamos las funciones univariadas en cada una de las matrices de transformación? Para esto se utilizan B-splines.\n",
        "\n",
        "Recordá que, al crear B-splines, ya contamos con nuestros puntos de control ($P_1, P_2, \\dots, P_n$) y con las funciones base subyacentes, determinadas por el grado $k$.\n",
        "\n",
        "Al variar la posición de los puntos de control, obtenemos distintas curvas, como se muestra en el video a continuación:\n",
        "\n",
        "![](https://i.postimg.cc/HkYP78hG/Recording-2025-04-11-at-11-53-20.gif)\n",
        "\n"
      ],
      "metadata": {
        "id": "VBZsxXWpPgiy"
      }
    },
    {
      "cell_type": "markdown",
      "source": [
        "**Entonces, acá está la idea central de las KANs:**\n",
        "\n",
        "`*Hagamos que las posiciones de los puntos de control sean aprendibles dentro de la función de activación, de modo que el modelo sea libre de aprender cualquier forma arbitraria de función de activación que se ajuste mejor a los datos.*`\n"
      ],
      "metadata": {
        "id": "KeWMrsF3XSvh"
      }
    },
    {
      "cell_type": "markdown",
      "source": [
        "Eso es todo.\n",
        "\n",
        "Al ajustar las posiciones de los puntos de control durante el entrenamiento, el modelo KAN puede moldear dinámicamente las funciones de activación que mejor se adapten a los datos.\n",
        "\n",
        "- Se comienza con posiciones iniciales para los puntos de control, igual que hacemos con los pesos.  \n",
        "- Durante el proceso de entrenamiento, se actualizan las posiciones de estos puntos de control mediante backpropagation, de forma similar a como se actualizan los pesos en una red neuronal.  \n",
        "- Se utiliza un algoritmo de optimización (por ejemplo, descenso por gradiente) para ajustar los puntos de control y así minimizar la función de pérdida del modelo.\n",
        "\n",
        "Desde un punto de vista matemático, en las KANs, cada función de activación $\\phi(x)$ se define de la siguiente manera:\n",
        "\n",
        "![](https://www.dailydoseofds.com/content/images/2024/05/image-133.png)\n",
        "\n",
        "Dentro de esto:\n",
        "\n",
        "![](https://www.dailydoseofds.com/content/images/size/w1000/2024/05/image-135.png)\n",
        "\n",
        "\n",
        "- El cálculo involucra una función base $b(x)$ (similar a las conexiones residuales).  \n",
        "- $spline(x)$ es aprendible, específicamente los parámetros $c_i$, que indican la posición de los puntos de control.  \n",
        "- Hay otro parámetro $w$. Los autores dicen que, en principio, $w$ es redundante, ya que puede ser absorbido en $b(x)$ y $spline(x)$. Sin embargo, igual incluyeron este factor $w$ para controlar mejor la magnitud general de la función de activación.\n",
        "\n",
        "Una vez definido todo esto, la red puede entrenarse como cualquier otra red neuronal.\n",
        "\n",
        "Más específicamente:\n",
        "\n",
        "- Inicializamos cada una de las matrices $\\phi$ de la siguiente manera:\n",
        "\n",
        "![](https://www.dailydoseofds.com/content/images/2024/05/image-140.png)\n",
        "\n",
        "- Ejecutar el paso hacia adelante (forward pass):\n",
        "\n",
        "![](https://www.dailydoseofds.com/content/images/size/w1000/2024/05/image-141.png)\n",
        "\n",
        "\n",
        "- Calcular la función de pérdida y ejecutar backpropagación.\n",
        "\n",
        "¡Listo!\n"
      ],
      "metadata": {
        "id": "thupUeV_XpEE"
      }
    },
    {
      "cell_type": "markdown",
      "source": [
        "# 💻**Implementación en PyTorch**\n",
        "\n",
        "Primero, importamos las librerías necesarias:"
      ],
      "metadata": {
        "id": "v4kSZWYQZgZA"
      }
    },
    {
      "cell_type": "code",
      "execution_count": null,
      "metadata": {
        "id": "dzdqto9yODXk"
      },
      "outputs": [],
      "source": [
        "import numpy as np\n",
        "import torch\n",
        "import torch.nn as nn\n",
        "import torch.nn.functional as F\n",
        "\n",
        "from torch.nn.parameter import Parameter\n",
        "from scipy.interpolate import BSpline"
      ]
    },
    {
      "cell_type": "markdown",
      "source": [
        "Bien, equipo, ¡vamos a sumergirnos en el código! Verán que la mayoría de las líneas de `import` al principio son como las herramientas que ya conocen y aman de su caja de herramientas de Python. Pero hay una que quizás llame su atención: la que traemos desde `scipy`. Esta nos va a ayudar con algo súper interesante llamado **B-splines**.\n",
        "\n",
        "¿Qué son los B-splines? Imaginen que quieren dibujar una curva suave y flexible que pase por ciertos puntos o se aproxime a una forma específica. Los B-splines son como piezas de Lego matemáticas (polinomios por tramos, para ser más técnicos) que nos permiten construir esas curvas de manera muy precisa. Son geniales para cosas como el diseño gráfico, pero aquí les daremos un uso aún más *cool*.\n",
        "\n",
        "Dentro de `scipy`, usaremos la clase `BSpline`. Piensen en ella como nuestro \"constructor de curvas B-spline\". Le diremos qué tan \"ondulada\" queremos la curva (su grado), por dónde más o menos tiene que pasar (puntos de control) y cómo se unen esos tramos (el vector de nudos).\n",
        "\n",
        "Ahora, aquí viene la magia para nuestra red neuronal: en lugar de que las conexiones entre neuronas (los pesos) sean simples números que multiplican las entradas, ¡vamos a usar estos B-splines para crear **funciones de activación personalizadas y flexibles**! Esto significa que cada \"cable\" en nuestra red no solo ajustará la fuerza de la señal, sino que aprenderá una *función completa* (una curva B-spline) para transformar la entrada de una manera mucho más sofisticada.\n",
        "\n",
        "Así que, el siguiente paso es construir el corazón de esta idea. Definiremos algo que llamaremos una entidad **\"edge\"** (o \"borde\" / \"conexión\"). Esta será una clase especial de PyTorch que encapsulará nuestra nueva y flamante función de activación basada en B-splines. ¡Prepárense para ver cómo las conexiones de nuestra red cobran vida propia!"
      ],
      "metadata": {
        "id": "CPmlV0XsaaAw"
      }
    },
    {
      "cell_type": "code",
      "source": [
        "class UnivariateActivationFunction(nn.Module):\n",
        "    def __init__(self, degree=3, control_pts=10):\n",
        "        super(UnivariateActivationFunction, self).__init__()\n",
        "\n",
        "        self.degree = degree\n",
        "        self.control_pts = control_pts\n",
        "\n",
        "        # Initialize control points for B-spline with small random values\n",
        "        self.control_points = Parameter(torch.randn(control_pts) * 0.01)\n",
        "        self.knots = torch.linspace(0, 1, control_pts + degree + 1).tolist()\n",
        "\n",
        "        # Initialize a single weight parameter with a small random value\n",
        "        self.w = Parameter(torch.randn(1) * 0.01)"
      ],
      "metadata": {
        "id": "V1cbCUEraegd"
      },
      "execution_count": null,
      "outputs": []
    },
    {
      "cell_type": "markdown",
      "source": [
        "Desglose del código anterior:\n",
        "\n",
        "- **Líneas 5 a 6**: Almacenamos el grado del B-spline y el número de puntos de control como variables de instancia.  \n",
        "- **Línea 9**: Inicializamos los puntos de control del B-spline con pequeños valores aleatorios. Estos puntos de control son parámetros aprendibles, por eso usamos la clase `Parameter` de PyTorch.  \n",
        "- **Línea 10**: El vector de nudos del B-spline se crea usando `torch.linspace`. El vector de nudos es una secuencia de valores de parámetro que determinan dónde y cómo los puntos de control afectan la curva del B-spline.  \n",
        "- **Línea 13**: Inicializamos un parámetro de peso $w$ con un pequeño valor aleatorio. Este parámetro escalará la contribución del B-spline y de la activación SiLU en la salida final.\n",
        "\n",
        "Dado que las funciones de activación son univariadas, escribiremos nuestra implementación de manera tal que estas se invoquen característica por característica (feature-by-feature).\n",
        "\n",
        "![](https://www.dailydoseofds.com/content/images/2024/06/image-8.png)\n",
        "\n",
        "- La primera característica ($x_0$) se pasará a través de las funciones en la primera columna de la matriz de activación.  \n",
        "- Luego, la segunda característica ($x_1$) se pasará a través de las funciones en la segunda columna de la matriz de activación.  \n",
        "- Y así sucesivamente...\n",
        "\n",
        "Por lo tanto, definimos el método `forward`, que calcula la salida de la función de activación sobre una característica:"
      ],
      "metadata": {
        "id": "oMykY-PnbPVo"
      }
    },
    {
      "cell_type": "code",
      "source": [
        "class UnivariateActivationFunction(nn.Module):\n",
        "    def __init__(self, degree=3, control_pts=10):\n",
        "        super(UnivariateActivationFunction, self).__init__()\n",
        "\n",
        "        self.degree = degree\n",
        "        self.control_pts = control_pts\n",
        "\n",
        "        # Initialize control points for B-spline with small random values\n",
        "        self.control_points = Parameter(torch.randn(control_pts) * 0.01)\n",
        "        self.knots = torch.linspace(0, 1, control_pts + degree + 1).tolist()\n",
        "\n",
        "        # Initialize a single weight parameter with a small random value\n",
        "        self.w = Parameter(torch.randn(1) * 0.01)\n",
        "\n",
        "    def forward(self, x):\n",
        "        # Compute SiLU (Sigmoid Linear Unit) activation\n",
        "        silu_x = F.silu(x)\n",
        "\n",
        "        # Compute B-spline basis functions\n",
        "        spline_x = self.compute_bspline(x)\n",
        "\n",
        "        # Combine SiLU and B-spline\n",
        "        phi_x = self.w * (silu_x + spline_x)\n",
        "\n",
        "        return phi_x\n",
        "\n",
        "    def compute_bspline(self, x):\n",
        "\n",
        "        bspline_values = []\n",
        "        for i in range(len(x)):\n",
        "            bspline_value = BSpline(self.knots,\n",
        "                                    self.control_points.detach().numpy(),\n",
        "                                    self.degree)(x[i].item())\n",
        "            bspline_values.append(bspline_value)\n",
        "\n",
        "        bspline_values = np.array(bspline_values)\n",
        "        return torch.tensor(bspline_values, dtype=torch.float32)"
      ],
      "metadata": {
        "id": "gQWlDGOWcBgl"
      },
      "execution_count": null,
      "outputs": []
    },
    {
      "cell_type": "markdown",
      "source": [
        "Con eso, ya hemos implementado la función de activación univariada.\n",
        "\n",
        "A continuación, pasemos a la capa personalizada, la cual estará compuesta por una estructura similar a una matriz de las funciones univariadas mencionadas anteriormente, como se muestra a continuación:\n",
        "\n",
        "![](https://www.dailydoseofds.com/content/images/2024/05/image-85.png)"
      ],
      "metadata": {
        "id": "5K2Lon6leXZO"
      }
    },
    {
      "cell_type": "code",
      "source": [
        "class KANLayer(nn.Module):\n",
        "    def __init__(self, in_features, out_features, degree=3, control_pts =10):\n",
        "        super(KANLayer, self).__init__()\n",
        "        self.in_features = in_features\n",
        "        self.out_features = out_features\n",
        "        self.degree = degree\n",
        "        self.control_pts = control_pts\n",
        "\n",
        "        # Initialize the matrix of univariate functions\n",
        "        self.phi_matrix = nn.ModuleList()\n",
        "\n",
        "        for i in range(in_features):\n",
        "            row = nn.ModuleList()\n",
        "\n",
        "            for j in range(out_features):\n",
        "                row.append(UnivariateActivationFunction(degree, control_pts))\n",
        "\n",
        "            self.phi_matrix.append(row)\n",
        "\n",
        "    def forward(self, x):\n",
        "        # Compute the output using the univariate functions\n",
        "        out = torch.zeros(x.size(0), self.out_features)\n",
        "        for i in range(self.in_features):\n",
        "            for j in range(self.out_features):\n",
        "                out[:, j] += self.phi_matrix[i][j](x[:, i])\n",
        "        return out"
      ],
      "metadata": {
        "id": "WmumvHj8dcdh"
      },
      "execution_count": null,
      "outputs": []
    },
    {
      "cell_type": "markdown",
      "source": [
        "Supongamos que tenemos un batch size de 3, una entrada de 2 dimensiones y queremos proyectarla a 4 dimensiones. Entonces, en esta capa KAN tendremos las siguientes matrices:\n",
        "\n",
        "![](https://www.dailydoseofds.com/content/images/2024/05/image-163.png)\n",
        "\n",
        "Esta capa se verá algo así:\n",
        "\n",
        "![](https://www.dailydoseofds.com/content/images/2024/05/image-159.png)"
      ],
      "metadata": {
        "id": "1onNY3G2etol"
      }
    },
    {
      "cell_type": "markdown",
      "source": [
        "Ahora que entendimos el funcionamiento interno de nuestra capa, vamos a definir nuestra clase de red, que será una composición de capas personalizadas conectadas entre sí.\n",
        "\n",
        "Esto se implementa a continuación, y es bastante similar a lo que hacemos en una red MLP tradicional:"
      ],
      "metadata": {
        "id": "1dixED1_gla9"
      }
    },
    {
      "cell_type": "code",
      "source": [
        "class KANModel(nn.Module):\n",
        "    def __init__(self, input_size, hidden_size, output_size):\n",
        "        super(KANModel, self).__init__()\n",
        "        self.hidden = KANLayer(input_size, hidden_size)\n",
        "        self.output = KANLayer(hidden_size, output_size)\n",
        "\n",
        "    def forward(self, x):\n",
        "        x = self.hidden(x)\n",
        "        x = self.output(x)\n",
        "        return x"
      ],
      "metadata": {
        "id": "Lr8x8t6OgnwU"
      },
      "execution_count": null,
      "outputs": []
    },
    {
      "cell_type": "markdown",
      "source": [
        "¡Listo!\n",
        "\n",
        "Ahora, continuemos creando un dataset ficticio para regresión:"
      ],
      "metadata": {
        "id": "knawW4dD3lO9"
      }
    },
    {
      "cell_type": "code",
      "source": [
        "from sklearn.datasets import make_regression\n",
        "from sklearn.model_selection import train_test_split\n",
        "\n",
        "X, y = make_regression(n_samples=100, n_features=2, noise=0.1)\n",
        "X_train, X_test, y_train, y_test = train_test_split(X, y, test_size=0.2)"
      ],
      "metadata": {
        "id": "FRiKzff73r2a"
      },
      "execution_count": null,
      "outputs": []
    },
    {
      "cell_type": "code",
      "source": [
        "import matplotlib.pyplot as plt\n",
        "plt.figure(figsize=(10, 6))\n",
        "plt.scatter(X_train[:, 0], X_train[:, 1], c=y_train, cmap='viridis', label='Entrenamiento')\n",
        "plt.scatter(X_test[:, 0], X_test[:, 1], c=y_test, cmap='viridis', marker='x', s=50, label='Prueba')\n",
        "plt.colorbar(label='Valor objetivo (y)')\n",
        "plt.xlabel('Característica 1')\n",
        "plt.ylabel('Característica 2')\n",
        "plt.xlim(-4, 4)\n",
        "plt.ylim(-4, 4)\n",
        "plt.title('Dataset de Regresión (Entrenamiento y Prueba)')\n",
        "plt.legend()\n",
        "plt.grid(True)\n",
        "plt.show()"
      ],
      "metadata": {
        "colab": {
          "base_uri": "https://localhost:8080/",
          "height": 565
        },
        "id": "tQc5opDsTA7V",
        "outputId": "c6f6a3f7-4c35-4202-ba8a-1cbc96f5f12a"
      },
      "execution_count": null,
      "outputs": [
        {
          "output_type": "display_data",
          "data": {
            "text/plain": [
              "<Figure size 1000x600 with 2 Axes>"
            ],
            "image/png": "[encoded data removed]"
          },
          "metadata": {}
        }
      ]
    },
    {
      "cell_type": "markdown",
      "source": [
        "A continuación, vamos a preprocesarlo usando un *min-max scaler* y luego lo convertimos a tensores de PyTorch:"
      ],
      "metadata": {
        "id": "z0UJLz3S3yMq"
      }
    },
    {
      "cell_type": "code",
      "source": [
        "from sklearn.preprocessing import MinMaxScaler\n",
        "\n",
        "# define scalers\n",
        "scaler_X = MinMaxScaler()\n",
        "scaler_y = MinMaxScaler()\n",
        "\n",
        "# Transform data\n",
        "X_train = scaler_X.fit_transform(X_train)\n",
        "X_test = scaler_X.transform(X_test)\n",
        "y_train = scaler_y.fit_transform(y_train.reshape(-1, 1)).flatten()\n",
        "y_test = scaler_y.transform(y_test.reshape(-1, 1)).flatten()\n",
        "\n",
        "# Convert to PyTorch tensors\n",
        "X_train = torch.tensor(X_train, dtype=torch.float32)\n",
        "X_test = torch.tensor(X_test, dtype=torch.float32)\n",
        "y_train = torch.tensor(y_train, dtype=torch.float32)\n",
        "y_test = torch.tensor(y_test, dtype=torch.float32)"
      ],
      "metadata": {
        "id": "4TRXjJkP32G8"
      },
      "execution_count": null,
      "outputs": []
    },
    {
      "cell_type": "markdown",
      "source": [
        "Ahora estamos listos para entrenar esta red.\n",
        "\n",
        "Primero, definimos el modelo, la función de pérdida y el optimizador:"
      ],
      "metadata": {
        "id": "80CEn70Y375T"
      }
    },
    {
      "cell_type": "code",
      "source": [
        "# Define the model, loss function, and optimizer\n",
        "model = KANModel(input_size=2, hidden_size=5, output_size=1)\n",
        "criterion = nn.MSELoss()\n",
        "optimizer = torch.optim.Adam(model.parameters(), lr=0.1)"
      ],
      "metadata": {
        "id": "fLMM5tlZ4AfD"
      },
      "execution_count": null,
      "outputs": []
    },
    {
      "cell_type": "markdown",
      "source": [
        "A continuación, definimos el bucle de entrenamiento y entrenamos la red:\n"
      ],
      "metadata": {
        "id": "YZnrFuPi4OWW"
      }
    },
    {
      "cell_type": "code",
      "source": [
        "num_epochs = 100\n",
        "for epoch in range(num_epochs):\n",
        "    model.train()\n",
        "    optimizer.zero_grad()\n",
        "    outputs = model(X_train).squeeze()\n",
        "    loss = criterion(outputs, y_train)\n",
        "    loss.backward()\n",
        "    optimizer.step()\n",
        "\n",
        "    if (epoch + 1) % 10 == 0:\n",
        "        print(f'Epoch [{epoch+1}/{num_epochs}], Loss: {loss.item():.4f}')"
      ],
      "metadata": {
        "id": "oYFEVXfa4Rhu",
        "colab": {
          "base_uri": "https://localhost:8080/"
        },
        "outputId": "4ed3c91f-dca2-4d6b-fe97-65883defc363"
      },
      "execution_count": null,
      "outputs": [
        {
          "output_type": "stream",
          "name": "stdout",
          "text": [
            "Epoch [10/100], Loss: 0.0140\n",
            "Epoch [20/100], Loss: 0.0180\n",
            "Epoch [30/100], Loss: 0.0059\n",
            "Epoch [40/100], Loss: 0.0035\n",
            "Epoch [50/100], Loss: 0.0038\n",
            "Epoch [60/100], Loss: 0.0033\n",
            "Epoch [70/100], Loss: 0.0038\n",
            "Epoch [80/100], Loss: 0.0043\n",
            "Epoch [90/100], Loss: 0.0153\n",
            "Epoch [100/100], Loss: 0.0030\n"
          ]
        }
      ]
    },
    {
      "cell_type": "markdown",
      "source": [
        "A partir del valor de la pérdida por época, queda claro que el modelo converge de forma bastante fluida.\n",
        "\n",
        "También podemos evaluarlo sobre el conjunto de prueba y calcular la pérdida en test de la siguiente manera:"
      ],
      "metadata": {
        "id": "z5yR9-mb4h5H"
      }
    },
    {
      "cell_type": "code",
      "source": [
        "model.eval()\n",
        "with torch.no_grad():\n",
        "    predictions = model(X_test).squeeze()\n",
        "    test_loss = criterion(predictions, y_test)\n",
        "    print(f'Test Loss: {test_loss.item():.4f}')\n"
      ],
      "metadata": {
        "id": "nH8YciGK4j_v",
        "colab": {
          "base_uri": "https://localhost:8080/"
        },
        "outputId": "8a4e58c7-3738-447f-eb98-d16decf561b6"
      },
      "execution_count": null,
      "outputs": [
        {
          "output_type": "stream",
          "name": "stdout",
          "text": [
            "Test Loss: 0.0061\n"
          ]
        }
      ]
    },
    {
      "cell_type": "markdown",
      "source": [
        "## **Paquete oficial de KAN**\n",
        "\n",
        "Como mencionamos anteriormente en el artículo, nuestra intención fue implementar una versión simplificada de las KAN que no coincide por completo con la implementación original.\n",
        "\n",
        "El objetivo era darte una idea general de cómo puede entrenarse una red que no contiene matrices de pesos tradicionales, sino funciones univariadas.\n",
        "\n",
        "La implementación original incluye funcionalidades más sofisticadas, como **extensión de grilla**, **esparsificación**, entre otras, que hacen que la red sea más robusta, pero que no consideramos aquí por una cuestión de simplicidad.\n",
        "\n",
        "Para tus proyectos, se recomienda utilizar la implementación oficial. En esta sección, vamos a ver cómo usarla."
      ],
      "metadata": {
        "id": "0JI97Lqg4_65"
      }
    },
    {
      "cell_type": "markdown",
      "source": [
        "El paquete de KAN (`pykan`) puede instalarse de la siguiente manera:"
      ],
      "metadata": {
        "id": "YOiPDsoc5Obu"
      }
    },
    {
      "cell_type": "code",
      "source": [
        "!pip install pykan"
      ],
      "metadata": {
        "id": "kyyjVvEc4_jG",
        "colab": {
          "base_uri": "https://localhost:8080/"
        },
        "outputId": "a92f7b34-d3e6-410a-f0f2-6e08671e9265"
      },
      "execution_count": null,
      "outputs": [
        {
          "output_type": "stream",
          "name": "stdout",
          "text": [
            "Collecting pykan\n",
            "  Downloading pykan-0.2.8-py3-none-any.whl.metadata (11 kB)\n",
            "Downloading pykan-0.2.8-py3-none-any.whl (78 kB)\n",
            "\u001b[?25l   \u001b[90m━━━━━━━━━━━━━━━━━━━━━━━━━━━━━━━━━━━━━━━━\u001b[0m \u001b[32m0.0/78.1 kB\u001b[0m \u001b[31m?\u001b[0m eta \u001b[36m-:--:--\u001b[0m\r\u001b[2K   \u001b[90m━━━━━━━━━━━━━━━━━━━━━━━━━━━━━━━━━━━━━━━━\u001b[0m \u001b[32m78.1/78.1 kB\u001b[0m \u001b[31m5.1 MB/s\u001b[0m eta \u001b[36m0:00:00\u001b[0m\n",
            "\u001b[?25hInstalling collected packages: pykan\n",
            "Successfully installed pykan-0.2.8\n"
          ]
        }
      ]
    },
    {
      "cell_type": "markdown",
      "source": [
        "Ahora estamos listos para utilizar la implementación oficial de KAN.\n",
        "\n",
        "Iniciá una sesión de Jupyter Notebook en la carpeta kan_demo y creá un nuevo notebook. Llamémoslo KAN_demo.ipynb.\n",
        "\n",
        "Primero, creamos un dataset ficticio usando el método create_dataset de KAN de la siguiente manera:"
      ],
      "metadata": {
        "id": "QXUQc6h16-Nr"
      }
    },
    {
      "cell_type": "code",
      "source": [
        "from kan import *\n",
        "\n",
        "f = lambda x: torch.sin(x[:,[0]]**2 + x[:,[1]]**2)\n",
        "\n",
        "data = create_dataset(f, n_var=2)\n",
        "\n",
        "data['train_input'].shape, data['train_label'].shape"
      ],
      "metadata": {
        "id": "OGHdXNUm7A5v",
        "colab": {
          "base_uri": "https://localhost:8080/"
        },
        "outputId": "c3bfb571-a2bd-4033-9334-fb9a5e821a0d"
      },
      "execution_count": null,
      "outputs": [
        {
          "output_type": "execute_result",
          "data": {
            "text/plain": [
              "(torch.Size([1000, 2]), torch.Size([1000, 1]))"
            ]
          },
          "metadata": {},
          "execution_count": 13
        }
      ]
    },
    {
      "cell_type": "markdown",
      "source": [
        "A continuación, definimos nuestra red KAN simple de la siguiente manera:"
      ],
      "metadata": {
        "id": "CQNJ0T0U7KlS"
      }
    },
    {
      "cell_type": "code",
      "source": [
        "from kan import *\n",
        "\n",
        "model = KAN(width=[2,1,1], grid=10, k=3, seed=0)"
      ],
      "metadata": {
        "id": "YpCJwShQ7O-c",
        "colab": {
          "base_uri": "https://localhost:8080/"
        },
        "outputId": "dab453ad-7fb6-4ef6-89cb-100c75d2e1d1"
      },
      "execution_count": null,
      "outputs": [
        {
          "output_type": "stream",
          "name": "stdout",
          "text": [
            "checkpoint directory created: ./model\n",
            "saving model version 0.0\n"
          ]
        }
      ]
    },
    {
      "cell_type": "markdown",
      "source": [
        "Esta red tiene:\n",
        "\n",
        "- Entradas de 2 dimensiones.  \n",
        "- Una salida de 1 dimensión.  \n",
        "- Spline cúbico ($k=3$).  \n",
        "- Cinco intervalos de grilla (`grid=5`).\n",
        "\n",
        "Podemos graficar el modelo KAN en su estado inicial usando el método `model.plot()` de la siguiente manera:"
      ],
      "metadata": {
        "id": "E4VwlgvK7oDr"
      }
    },
    {
      "cell_type": "code",
      "source": [
        "model(data[\"train_input\"])\n",
        "model.plot()"
      ],
      "metadata": {
        "id": "fiYzLKMp7xNj",
        "colab": {
          "base_uri": "https://localhost:8080/",
          "height": 345
        },
        "outputId": "ababb938-5642-4514-964f-30806a03c01f"
      },
      "execution_count": null,
      "outputs": [
        {
          "output_type": "display_data",
          "data": {
            "text/plain": [
              "<Figure size 500x400 with 6 Axes>"
            ],
            "image/png": "[encoded data removed]"
          },
          "metadata": {}
        }
      ]
    },
    {
      "cell_type": "markdown",
      "source": [
        "A continuación, entrenamos el modelo usando el método `model.train()` de la siguiente manera:"
      ],
      "metadata": {
        "id": "JV2bKHu27-jP"
      }
    },
    {
      "cell_type": "code",
      "source": [
        "model.fit(data, steps=20)"
      ],
      "metadata": {
        "id": "Ig0NDfxM8AKb",
        "colab": {
          "base_uri": "https://localhost:8080/"
        },
        "outputId": "b4ab09d1-8e87-4a2a-c600-4d7924c48f41"
      },
      "execution_count": null,
      "outputs": [
        {
          "output_type": "stream",
          "name": "stderr",
          "text": [
            "| train_loss: 3.16e-04 | test_loss: 3.33e-04 | reg: 4.79e+00 | : 100%|█| 20/20 [00:11<00:00,  1.80it"
          ]
        },
        {
          "output_type": "stream",
          "name": "stdout",
          "text": [
            "saving model version 0.1\n"
          ]
        },
        {
          "output_type": "stream",
          "name": "stderr",
          "text": [
            "\n"
          ]
        },
        {
          "output_type": "execute_result",
          "data": {
            "text/plain": [
              "{'train_loss': [array(0.03182479, dtype=float32),\n",
              "  array(0.02083735, dtype=float32),\n",
              "  array(0.00884441, dtype=float32),\n",
              "  array(0.00526045, dtype=float32),\n",
              "  array(0.004704, dtype=float32),\n",
              "  array(0.00305537, dtype=float32),\n",
              "  array(0.0023022, dtype=float32),\n",
              "  array(0.00165552, dtype=float32),\n",
              "  array(0.00109674, dtype=float32),\n",
              "  array(0.00096829, dtype=float32),\n",
              "  array(0.00078931, dtype=float32),\n",
              "  array(0.00055394, dtype=float32),\n",
              "  array(0.00043914, dtype=float32),\n",
              "  array(0.00041276, dtype=float32),\n",
              "  array(0.00037685, dtype=float32),\n",
              "  array(0.0003576, dtype=float32),\n",
              "  array(0.00035112, dtype=float32),\n",
              "  array(0.00034194, dtype=float32),\n",
              "  array(0.00032234, dtype=float32),\n",
              "  array(0.00031624, dtype=float32)],\n",
              " 'test_loss': [array(0.03213876, dtype=float32),\n",
              "  array(0.02032783, dtype=float32),\n",
              "  array(0.00863614, dtype=float32),\n",
              "  array(0.00529203, dtype=float32),\n",
              "  array(0.00464948, dtype=float32),\n",
              "  array(0.00303307, dtype=float32),\n",
              "  array(0.0023136, dtype=float32),\n",
              "  array(0.00156985, dtype=float32),\n",
              "  array(0.00111127, dtype=float32),\n",
              "  array(0.00100294, dtype=float32),\n",
              "  array(0.0008199, dtype=float32),\n",
              "  array(0.00055752, dtype=float32),\n",
              "  array(0.00045833, dtype=float32),\n",
              "  array(0.00043178, dtype=float32),\n",
              "  array(0.00037564, dtype=float32),\n",
              "  array(0.00036497, dtype=float32),\n",
              "  array(0.00036317, dtype=float32),\n",
              "  array(0.00035243, dtype=float32),\n",
              "  array(0.00033145, dtype=float32),\n",
              "  array(0.00033281, dtype=float32)],\n",
              " 'reg': [array(0., dtype=float32),\n",
              "  array(0., dtype=float32),\n",
              "  array(0., dtype=float32),\n",
              "  array(0., dtype=float32),\n",
              "  array(0., dtype=float32),\n",
              "  array(0., dtype=float32),\n",
              "  array(0., dtype=float32),\n",
              "  array(0., dtype=float32),\n",
              "  array(0., dtype=float32),\n",
              "  array(0., dtype=float32),\n",
              "  array(0., dtype=float32),\n",
              "  array(0., dtype=float32),\n",
              "  array(0., dtype=float32),\n",
              "  array(0., dtype=float32),\n",
              "  array(0., dtype=float32),\n",
              "  array(0., dtype=float32),\n",
              "  array(0., dtype=float32),\n",
              "  array(0., dtype=float32),\n",
              "  array(0., dtype=float32),\n",
              "  array(4.789172, dtype=float32)]}"
            ]
          },
          "metadata": {},
          "execution_count": 16
        }
      ]
    },
    {
      "cell_type": "markdown",
      "source": [
        "Al graficar nuevamente el modelo usando el método `model.plot()`, obtenemos esta vez el siguiente gráfico:"
      ],
      "metadata": {
        "id": "ZMdOwAwh8H8z"
      }
    },
    {
      "cell_type": "code",
      "source": [
        "model.plot()"
      ],
      "metadata": {
        "id": "ZwzJGPrW8MAX",
        "colab": {
          "base_uri": "https://localhost:8080/",
          "height": 345
        },
        "outputId": "c1da55d4-9996-4ee5-d201-405271852eb7"
      },
      "execution_count": null,
      "outputs": [
        {
          "output_type": "display_data",
          "data": {
            "text/plain": [
              "<Figure size 500x400 with 6 Axes>"
            ],
            "image/png": "[encoded data removed]"
          },
          "metadata": {}
        }
      ]
    },
    {
      "cell_type": "markdown",
      "source": [
        "Aquí, recordá que el dataset que creamos anteriormente era la suma de los cuadrados de $x_1$ y $x_2$:"
      ],
      "metadata": {
        "id": "ZSrvpdnz8W7b"
      }
    },
    {
      "cell_type": "code",
      "source": [
        "f = lambda x: x[:,[0]]**2 + x[:,[1]]**2"
      ],
      "metadata": {
        "id": "BTQsR_AI8bhd"
      },
      "execution_count": null,
      "outputs": []
    },
    {
      "cell_type": "markdown",
      "source": [
        "Las activaciones aprendidas por el modelo parecen estar totalmente alineadas con elevar al cuadrado los términos individuales de cada característica, ¿no te parece?\n",
        "\n",
        "![](https://www.dailydoseofds.com/content/images/2024/06/image-6.png)\n",
        "\n"
      ],
      "metadata": {
        "id": "K9wDfgg78msP"
      }
    },
    {
      "cell_type": "markdown",
      "source": [
        "# Cierre"
      ],
      "metadata": {
        "id": "pRj-WbFtMskY"
      }
    },
    {
      "cell_type": "markdown",
      "source": [
        "Imagina que te mostramos cómo funcionan las Redes de Kolmogorov-Arnold (KAN) usando el programa original que crearon sus inventores. ¡Es como ver al chef preparar su receta!\n",
        "\n",
        "Ahora, los creadores de KAN han sido muy honestos sobre uno de sus principales desafíos: entrenarlas lleva su tiempo. Piénsalo así: si una Red Neuronal Multicapa (MLP) tradicional es como una bicicleta rápida, una KAN, con la misma cantidad de \"piezas\" (parámetros), sería como una bicicleta unas 10 veces más lenta.\n",
        "\n",
        "Pero, ¡ojo! No todo es velocidad. Aunque parezca una gran diferencia, el rendimiento general podría no ser tan distinto. ¿Por qué? Porque, como dijimos antes, las KAN suelen necesitar muchas menos \"piezas\" que las MLP para hacer el mismo trabajo. Es como si esa bicicleta más lenta pudiera tomar atajos geniales.\n",
        "\n",
        "Los creadores también nos cuentan que, por ahora, no se han concentrado al máximo en hacer que las KAN sean súper veloces. Ven estos \"atascos\" más como un desafío de ingeniería, algo que se puede solucionar con más ingenio en el futuro, ya sea por ellos mismos o por la comunidad de desarrolladores.\n",
        "\n",
        "Y hablando de la comunidad, ¡pasó algo increíble! En tan solo una semana después de que se conocieran las KAN, alguien ya había creado una versión más rápida llamada **efficient-KAN**. Puedes encontrarla y explorarla en este [repositorio de GitHub](https://github.com/Blealtan/efficient-kan?ref=dailydoseofds.com). ¡Así de rápido se mueve el mundo de la tecnología!\n"
      ],
      "metadata": {
        "id": "K-k1qHLV8pdP"
      }
    },
    {
      "cell_type": "markdown",
      "source": [
        "# Referencias\n",
        "\n",
        "[1] Imágenes y paso a paso tomado del blog https://www.dailydoseofds.com/implementing-kans-from-scratch-using-pytorch/\n",
        "\n",
        "[2] Video Kolmogorov-Arnold Networks (KANs) - What are they and how do they work? https://www.youtube.com/watch?v=myFtp5zMv8U\n",
        "\n",
        "[3] Paper original de redes KAN\n",
        "https://arxiv.org/abs/2404.19756\n",
        "\n",
        "[4] Recursos varios sobre redes KAN\n",
        "https://github.com/mintisan/awesome-kan"
      ],
      "metadata": {
        "id": "nhRJD4ItEAiJ"
      }
    }
  ]
}