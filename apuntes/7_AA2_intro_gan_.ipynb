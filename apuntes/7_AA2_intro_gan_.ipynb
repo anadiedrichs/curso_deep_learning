{
  "nbformat": 4,
  "nbformat_minor": 0,
  "metadata": {
    "colab": {
      "provenance": [],
      "authorship_tag": "ABX9TyOCEsxYHTBBTNr+toiGE8Xu",
      "include_colab_link": true
    },
    "kernelspec": {
      "name": "python3",
      "display_name": "Python 3"
    },
    "language_info": {
      "name": "python"
    }
  },
  "cells": [
    {
      "cell_type": "markdown",
      "metadata": {
        "id": "view-in-github",
        "colab_type": "text"
      },
      "source": [
        "<a href=\"https://colab.research.google.com/github/anadiedrichs/curso_deep_learning/blob/main/7_AA2_intro_gan_.ipynb\" target=\"_parent\"><img src=\"https://colab.research.google.com/assets/colab-badge.svg\" alt=\"Open In Colab\"/></a>"
      ]
    },
    {
      "cell_type": "markdown",
      "source": [
        "# Introducción a redes generativas adversarias\n",
        "\n",
        "La IA generativa es un subcampo fascinante y en rápida evolución de la inteligencia artificial, que se centra en la creación de nuevo contenido, desde arte, música e historias hasta aplicaciones más técnicas, como la generación de código o la predicción de sistemas complejos. Esto contrasta con otros tipos de IA que se centran más en el análisis e interpretación de datos existentes, como la clasificación de imágenes o la predicción de precios de acciones. Mientras que los sistemas de IA tradicionales se diseñan para responder con la respuesta más precisa u óptima entre un conjunto de posibilidades, los sistemas de IA generativa están diseñados para crear nuevas posibilidades, generando nuevos datos similares a los datos con los que se entrenaron.\n",
        "\n",
        "Por ejemplo, un sistema de IA generativa podría entrenarse con un gran conjunto de datos de música clásica y luego ser capaz de crear nuevas composiciones al estilo de Bach o Beethoven. Otra aplicación podría ser entrenar el modelo con una gran cantidad de datos de texto para crear un chatbot capaz de generar respuestas similares a las humanas a preguntas o indicaciones, como hemos visto con los modelos GPT de OpenAI. Otros ejemplos incluyen la generación de imágenes realistas, la creación de entornos virtuales o incluso el diseño de moléculas para nuevos fármacos.\n",
        "\n",
        "Esta notable capacidad de la IA generativa abre un mundo de posibilidades y aplicaciones que apenas se están explorando. En esta sección, profundizaremos en el funcionamiento de la IA generativa, examinando las tecnologías que la impulsan, como las Redes Generativas Antagónicas (GAN) y los Grandes Modelos de Lenguaje (LLM), y exploraremos algunas de las aplicaciones más interesantes y las futuras direcciones de este innovador campo."
      ],
      "metadata": {
        "id": "f34Z1yn4EKoy"
      }
    },
    {
      "cell_type": "markdown",
      "source": [
        "## Los inicios de la IA generativa\n",
        "\n",
        "La historia de la IA generativa se remonta a los inicios de la propia inteligencia artificial. En las décadas de 1950 y 1960, los investigadores ya experimentaban con algoritmos capaces de generar nuevo contenido, como el chatbot ELIZA, desarrollado en el MIT en 1966, que podía generar respuestas a la entrada del usuario de forma similar a la de un psicoterapeuta. Sin embargo, el verdadero potencial de la IA generativa permaneció prácticamente sin explotar hasta la llegada de hardware informático más potente y conjuntos de datos más grandes en el siglo XXI. Si bien ELIZA parecía avanzado para la época, sus conversaciones carecían de profundidad significativa:\n",
        "\n",
        "```\n",
        "> Hola, soy Eliza.\n",
        "* Me temo que nunca aprenderé Python.\n",
        "> ¿Crees que es normal tener miedo de nunca aprender Python?\n",
        "* Sí\n",
        "> Ya veo. ```\n",
        "\n",
        "En 2006, Geoffrey Hinton y sus colegas de la Universidad de Toronto desarrollaron un tipo de red neuronal llamada Red de Creencias Profundas (DBN), que podía entrenarse para generar nuevos datos similares a los que se usaron para su entrenamiento. Esto marcó un hito clave en el desarrollo de la IA generativa, ya que demostró que las redes neuronales podían utilizarse no solo para clasificar y analizar datos, sino también para crear nuevos. Inicialmente, esta DBN se entrenó para reconocer dígitos MNIST, como se muestra en la Figura 7.MNIST.\n",
        "\n",
        "**Figura 7.MNIST: Muestra de los dígitos MNIST**"
      ],
      "metadata": {
        "id": "7iQYak0pFgdY"
      }
    },
    {
      "cell_type": "markdown",
      "source": [
        "![MNIST Digits](https://data.heatonresearch.com/images/wustl/class/class_8_mnist.png)\n",
        "\n",
        "El siguiente gran avance se produjo en 2014, con la introducción de las Redes Generativas Antagónicas (GAN) por Ian Goodfellow y sus colegas. Las GAN constan de dos redes neuronales, un generador y un discriminador, que se entrenan simultáneamente mediante una especie de juego. El generador intenta crear datos indistinguibles de los reales, mientras que el discriminador intenta determinar si los datos son reales o falsos. Este proceso de entrenamiento antagónico permite que el generador sea cada vez más competente en la creación de datos realistas, y se ha utilizado para generar desde imágenes realistas de rostros inexistentes hasta nuevos niveles de videojuegos.\n",
        "\n",
        "La Figura 7. GAN-MNIST muestra una GAN que genera nuevos dígitos a partir de los dígitos MNIST con los que fue entrenada.\n",
        "\n",
        "**Figura 7. GAN-MNIST: Dígitos generados**\n",
        "\n",
        "![Dígitos MNIST](https://data.heatonresearch.com/images/wustl/class/gan_digits.jpg)\n",
        "\n",
        "La misma técnica inicial se aplicó para crear rostros completamente nuevos, como se muestra en la Figura 7.\n",
        "\n",
        "**Figura 7. GAN-FACE: Rostros generados**\n",
        "\n",
        "![Rostros GAN iniciales](https://s3.amazonaws.com/data.heatonresearch.com/images/wustl/class/gan_face.jpg)\n",
        "\n",
        "NVIDIA llevó las imágenes generadas por GAN a un nivel completamente nuevo con StyleGAN, que podía generar rostros fotorrealistas, como se muestra en la figura 7. GAN-STYLE.\n",
        "\n",
        "**Figura 7. ESTILO GAN: Rostros Generados**\n",
        "\n",
        "![StyleGAN](https://data.heatonresearch.com/images/wustl/class/stylegan2-hires.jpg)\n",
        "\n",
        "La Difusión Estable es un desarrollo reciente en el campo de la IA generativa que ha atraído mucha atención. Los métodos tradicionales, como las GAN y las VAE, presentan desventajas, como el colapso modal en las GAN. La Difusión Estable, por otro lado, utiliza un enfoque diferente al adoptar un modelo probabilístico basado en la difusión. Este enfoque implica transformar los datos de forma que se dispersen o difundan, y luego ejecutar el proceso inverso para generar nuevos datos. El modelo se entrena prediciendo el siguiente paso de difusión en el proceso inverso a partir de un estado dado, lo que le permite obtener una representación detallada y de alta calidad de los datos. Esto genera imágenes más realistas y detalladas en comparación con otros métodos. Además, se ha demostrado que los modelos de Difusión Estable son más estables y fáciles de entrenar que las GAN, lo que los convierte en una alternativa prometedora para generar contenido de alta calidad en diversas aplicaciones.\n",
        "\n",
        "Con la difusión estable, se pueden usar indicaciones para renderizar la imagen, lo que proporciona un gran control. La Figura 7. ESTILO GAN muestra a la misma mujer en múltiples poses y entornos.\n",
        "\n",
        "**Figura 7. ESTILO GAN: Misma persona en Difusión Estable**\n",
        "\n",
        "![Difusión Estable](https://data.heatonresearch.com/images/wustl/class/stable-diff.jpg)"
      ],
      "metadata": {
        "id": "yvhgjYJFFiN1"
      }
    },
    {
      "cell_type": "markdown",
      "source": [
        "En los últimos años, el desarrollo de grandes modelos lingüísticos (LLM), como la serie GPT (Transformador Generativo Preentrenado) de OpenAI, ha puesto la IA generativa en el primer plano de la atención pública. Estos modelos se entrenan con grandes cantidades de datos textuales y pueden generar texto con una precisión similar a la humana sobre una amplia variedad de temas. Esto ha dado lugar a una gran cantidad de aplicaciones, desde chatbots y asistentes virtuales hasta escritura creativa y generación de contenido.\n",
        "\n",
        "El desarrollo de la IA generativa continúa, y existen numerosos desafíos por abordar y emocionantes caminos por explorar. Sin embargo, el progreso alcanzado en los últimos años es realmente asombroso y ha abierto un mundo de posibilidades que antes eran cosa de ciencia ficción."
      ],
      "metadata": {
        "id": "9Sh7yogbF4mc"
      }
    },
    {
      "cell_type": "markdown",
      "source": [
        "## Introducción a redes generativas mediante un ejemplo\n",
        "\n",
        "[Video en youtube sobre la introducción de redes adversarias generativas](https://youtu.be/HACn6OU_y5I?si=8bP57VcH8_BucEeu)"
      ],
      "metadata": {
        "id": "x6icqN7zH1Ht"
      }
    },
    {
      "cell_type": "markdown",
      "source": [
        "## Referencias\n",
        "\n",
        "* Introducción textual extraida y traducida del apunte del curso T81-558: Applications of Deep Neural Networks, de Jeff Heaton, enlace github/jeffheaton/app_deep_learning/blob/main/t81_558_class_07_1_img_generative.ipynb\n",
        "* El video es de Luis Serrano"
      ],
      "metadata": {
        "id": "fsfsmhllHGHV"
      }
    },
    {
      "cell_type": "markdown",
      "source": [
        "# Primeros pasos con GANs en PyTorch\n",
        "\n",
        "\n",
        "### **🔹 Introducción**  \n",
        "\n",
        "En este notebook trabajaremos en la generación de dígitos manuscritos (como MNIST). Es simple, ilustrativo y cubre los fundamentos de GANs.  \n",
        "\n"
      ],
      "metadata": {
        "id": "EC8ha7nMC-jb"
      }
    },
    {
      "cell_type": "markdown",
      "source": [
        "\n",
        "\n",
        "### **🔹 ¿Qué se aprende en este cuaderno?**  \n",
        "✅ **Estructura básica de una GAN** (Generador vs. Discriminador).  \n",
        "✅ **Cómo funciona el entrenamiento adversarial** (minimax game).  \n",
        "✅ **Preprocesamiento de datos** (normalización, tensores).  \n",
        "✅ **Visualización de resultados** (matplotlib).  \n"
      ],
      "metadata": {
        "id": "eCkisyy4Drk9"
      }
    },
    {
      "cell_type": "markdown",
      "source": [
        "## **🌱 GAN básica para generar dígitos (MNIST) en PyTorch**  \n",
        "\n",
        "### **🔹 Paso 1: Instalar dependencias**\n"
      ],
      "metadata": {
        "id": "ZXvaTEx3D07b"
      }
    },
    {
      "cell_type": "code",
      "source": [
        "!pip install torch torchvision matplotlib numpy\n",
        ""
      ],
      "metadata": {
        "colab": {
          "base_uri": "https://localhost:8080/"
        },
        "id": "gjZ1PVeXDPaI",
        "outputId": "b8f4b909-32ce-4143-bb70-7dbbb0504c59"
      },
      "execution_count": 1,
      "outputs": [
        {
          "output_type": "stream",
          "name": "stdout",
          "text": [
            "Requirement already satisfied: torch in /usr/local/lib/python3.11/dist-packages (2.6.0+cu124)\n",
            "Requirement already satisfied: torchvision in /usr/local/lib/python3.11/dist-packages (0.21.0+cu124)\n",
            "Requirement already satisfied: matplotlib in /usr/local/lib/python3.11/dist-packages (3.10.0)\n",
            "Requirement already satisfied: numpy in /usr/local/lib/python3.11/dist-packages (2.0.2)\n",
            "Requirement already satisfied: filelock in /usr/local/lib/python3.11/dist-packages (from torch) (3.18.0)\n",
            "Requirement already satisfied: typing-extensions>=4.10.0 in /usr/local/lib/python3.11/dist-packages (from torch) (4.13.2)\n",
            "Requirement already satisfied: networkx in /usr/local/lib/python3.11/dist-packages (from torch) (3.4.2)\n",
            "Requirement already satisfied: jinja2 in /usr/local/lib/python3.11/dist-packages (from torch) (3.1.6)\n",
            "Requirement already satisfied: fsspec in /usr/local/lib/python3.11/dist-packages (from torch) (2025.3.2)\n",
            "Collecting nvidia-cuda-nvrtc-cu12==12.4.127 (from torch)\n",
            "  Downloading nvidia_cuda_nvrtc_cu12-12.4.127-py3-none-manylinux2014_x86_64.whl.metadata (1.5 kB)\n",
            "Collecting nvidia-cuda-runtime-cu12==12.4.127 (from torch)\n",
            "  Downloading nvidia_cuda_runtime_cu12-12.4.127-py3-none-manylinux2014_x86_64.whl.metadata (1.5 kB)\n",
            "Collecting nvidia-cuda-cupti-cu12==12.4.127 (from torch)\n",
            "  Downloading nvidia_cuda_cupti_cu12-12.4.127-py3-none-manylinux2014_x86_64.whl.metadata (1.6 kB)\n",
            "Collecting nvidia-cudnn-cu12==9.1.0.70 (from torch)\n",
            "  Downloading nvidia_cudnn_cu12-9.1.0.70-py3-none-manylinux2014_x86_64.whl.metadata (1.6 kB)\n",
            "Collecting nvidia-cublas-cu12==12.4.5.8 (from torch)\n",
            "  Downloading nvidia_cublas_cu12-12.4.5.8-py3-none-manylinux2014_x86_64.whl.metadata (1.5 kB)\n",
            "Collecting nvidia-cufft-cu12==11.2.1.3 (from torch)\n",
            "  Downloading nvidia_cufft_cu12-11.2.1.3-py3-none-manylinux2014_x86_64.whl.metadata (1.5 kB)\n",
            "Collecting nvidia-curand-cu12==10.3.5.147 (from torch)\n",
            "  Downloading nvidia_curand_cu12-10.3.5.147-py3-none-manylinux2014_x86_64.whl.metadata (1.5 kB)\n",
            "Collecting nvidia-cusolver-cu12==11.6.1.9 (from torch)\n",
            "  Downloading nvidia_cusolver_cu12-11.6.1.9-py3-none-manylinux2014_x86_64.whl.metadata (1.6 kB)\n",
            "Collecting nvidia-cusparse-cu12==12.3.1.170 (from torch)\n",
            "  Downloading nvidia_cusparse_cu12-12.3.1.170-py3-none-manylinux2014_x86_64.whl.metadata (1.6 kB)\n",
            "Requirement already satisfied: nvidia-cusparselt-cu12==0.6.2 in /usr/local/lib/python3.11/dist-packages (from torch) (0.6.2)\n",
            "Requirement already satisfied: nvidia-nccl-cu12==2.21.5 in /usr/local/lib/python3.11/dist-packages (from torch) (2.21.5)\n",
            "Requirement already satisfied: nvidia-nvtx-cu12==12.4.127 in /usr/local/lib/python3.11/dist-packages (from torch) (12.4.127)\n",
            "Collecting nvidia-nvjitlink-cu12==12.4.127 (from torch)\n",
            "  Downloading nvidia_nvjitlink_cu12-12.4.127-py3-none-manylinux2014_x86_64.whl.metadata (1.5 kB)\n",
            "Requirement already satisfied: triton==3.2.0 in /usr/local/lib/python3.11/dist-packages (from torch) (3.2.0)\n",
            "Requirement already satisfied: sympy==1.13.1 in /usr/local/lib/python3.11/dist-packages (from torch) (1.13.1)\n",
            "Requirement already satisfied: mpmath<1.4,>=1.1.0 in /usr/local/lib/python3.11/dist-packages (from sympy==1.13.1->torch) (1.3.0)\n",
            "Requirement already satisfied: pillow!=8.3.*,>=5.3.0 in /usr/local/lib/python3.11/dist-packages (from torchvision) (11.2.1)\n",
            "Requirement already satisfied: contourpy>=1.0.1 in /usr/local/lib/python3.11/dist-packages (from matplotlib) (1.3.2)\n",
            "Requirement already satisfied: cycler>=0.10 in /usr/local/lib/python3.11/dist-packages (from matplotlib) (0.12.1)\n",
            "Requirement already satisfied: fonttools>=4.22.0 in /usr/local/lib/python3.11/dist-packages (from matplotlib) (4.57.0)\n",
            "Requirement already satisfied: kiwisolver>=1.3.1 in /usr/local/lib/python3.11/dist-packages (from matplotlib) (1.4.8)\n",
            "Requirement already satisfied: packaging>=20.0 in /usr/local/lib/python3.11/dist-packages (from matplotlib) (24.2)\n",
            "Requirement already satisfied: pyparsing>=2.3.1 in /usr/local/lib/python3.11/dist-packages (from matplotlib) (3.2.3)\n",
            "Requirement already satisfied: python-dateutil>=2.7 in /usr/local/lib/python3.11/dist-packages (from matplotlib) (2.9.0.post0)\n",
            "Requirement already satisfied: six>=1.5 in /usr/local/lib/python3.11/dist-packages (from python-dateutil>=2.7->matplotlib) (1.17.0)\n",
            "Requirement already satisfied: MarkupSafe>=2.0 in /usr/local/lib/python3.11/dist-packages (from jinja2->torch) (3.0.2)\n",
            "Downloading nvidia_cublas_cu12-12.4.5.8-py3-none-manylinux2014_x86_64.whl (363.4 MB)\n",
            "\u001b[2K   \u001b[90m━━━━━━━━━━━━━━━━━━━━━━━━━━━━━━━━━━━━━━━━\u001b[0m \u001b[32m363.4/363.4 MB\u001b[0m \u001b[31m4.6 MB/s\u001b[0m eta \u001b[36m0:00:00\u001b[0m\n",
            "\u001b[?25hDownloading nvidia_cuda_cupti_cu12-12.4.127-py3-none-manylinux2014_x86_64.whl (13.8 MB)\n",
            "\u001b[2K   \u001b[90m━━━━━━━━━━━━━━━━━━━━━━━━━━━━━━━━━━━━━━━━\u001b[0m \u001b[32m13.8/13.8 MB\u001b[0m \u001b[31m64.8 MB/s\u001b[0m eta \u001b[36m0:00:00\u001b[0m\n",
            "\u001b[?25hDownloading nvidia_cuda_nvrtc_cu12-12.4.127-py3-none-manylinux2014_x86_64.whl (24.6 MB)\n",
            "\u001b[2K   \u001b[90m━━━━━━━━━━━━━━━━━━━━━━━━━━━━━━━━━━━━━━━━\u001b[0m \u001b[32m24.6/24.6 MB\u001b[0m \u001b[31m51.5 MB/s\u001b[0m eta \u001b[36m0:00:00\u001b[0m\n",
            "\u001b[?25hDownloading nvidia_cuda_runtime_cu12-12.4.127-py3-none-manylinux2014_x86_64.whl (883 kB)\n",
            "\u001b[2K   \u001b[90m━━━━━━━━━━━━━━━━━━━━━━━━━━━━━━━━━━━━━━━━\u001b[0m \u001b[32m883.7/883.7 kB\u001b[0m \u001b[31m36.6 MB/s\u001b[0m eta \u001b[36m0:00:00\u001b[0m\n",
            "\u001b[?25hDownloading nvidia_cudnn_cu12-9.1.0.70-py3-none-manylinux2014_x86_64.whl (664.8 MB)\n",
            "\u001b[2K   \u001b[90m━━━━━━━━━━━━━━━━━━━━━━━━━━━━━━━━━━━━━━━━\u001b[0m \u001b[32m664.8/664.8 MB\u001b[0m \u001b[31m3.1 MB/s\u001b[0m eta \u001b[36m0:00:00\u001b[0m\n",
            "\u001b[?25hDownloading nvidia_cufft_cu12-11.2.1.3-py3-none-manylinux2014_x86_64.whl (211.5 MB)\n",
            "\u001b[2K   \u001b[90m━━━━━━━━━━━━━━━━━━━━━━━━━━━━━━━━━━━━━━━━\u001b[0m \u001b[32m211.5/211.5 MB\u001b[0m \u001b[31m5.3 MB/s\u001b[0m eta \u001b[36m0:00:00\u001b[0m\n",
            "\u001b[?25hDownloading nvidia_curand_cu12-10.3.5.147-py3-none-manylinux2014_x86_64.whl (56.3 MB)\n",
            "\u001b[2K   \u001b[90m━━━━━━━━━━━━━━━━━━━━━━━━━━━━━━━━━━━━━━━━\u001b[0m \u001b[32m56.3/56.3 MB\u001b[0m \u001b[31m10.3 MB/s\u001b[0m eta \u001b[36m0:00:00\u001b[0m\n",
            "\u001b[?25hDownloading nvidia_cusolver_cu12-11.6.1.9-py3-none-manylinux2014_x86_64.whl (127.9 MB)\n",
            "\u001b[2K   \u001b[90m━━━━━━━━━━━━━━━━━━━━━━━━━━━━━━━━━━━━━━━━\u001b[0m \u001b[32m127.9/127.9 MB\u001b[0m \u001b[31m8.2 MB/s\u001b[0m eta \u001b[36m0:00:00\u001b[0m\n",
            "\u001b[?25hDownloading nvidia_cusparse_cu12-12.3.1.170-py3-none-manylinux2014_x86_64.whl (207.5 MB)\n",
            "\u001b[2K   \u001b[90m━━━━━━━━━━━━━━━━━━━━━━━━━━━━━━━━━━━━━━━━\u001b[0m \u001b[32m207.5/207.5 MB\u001b[0m \u001b[31m6.0 MB/s\u001b[0m eta \u001b[36m0:00:00\u001b[0m\n",
            "\u001b[?25hDownloading nvidia_nvjitlink_cu12-12.4.127-py3-none-manylinux2014_x86_64.whl (21.1 MB)\n",
            "\u001b[2K   \u001b[90m━━━━━━━━━━━━━━━━━━━━━━━━━━━━━━━━━━━━━━━━\u001b[0m \u001b[32m21.1/21.1 MB\u001b[0m \u001b[31m80.0 MB/s\u001b[0m eta \u001b[36m0:00:00\u001b[0m\n",
            "\u001b[?25hInstalling collected packages: nvidia-nvjitlink-cu12, nvidia-curand-cu12, nvidia-cufft-cu12, nvidia-cuda-runtime-cu12, nvidia-cuda-nvrtc-cu12, nvidia-cuda-cupti-cu12, nvidia-cublas-cu12, nvidia-cusparse-cu12, nvidia-cudnn-cu12, nvidia-cusolver-cu12\n",
            "  Attempting uninstall: nvidia-nvjitlink-cu12\n",
            "    Found existing installation: nvidia-nvjitlink-cu12 12.5.82\n",
            "    Uninstalling nvidia-nvjitlink-cu12-12.5.82:\n",
            "      Successfully uninstalled nvidia-nvjitlink-cu12-12.5.82\n",
            "  Attempting uninstall: nvidia-curand-cu12\n",
            "    Found existing installation: nvidia-curand-cu12 10.3.6.82\n",
            "    Uninstalling nvidia-curand-cu12-10.3.6.82:\n",
            "      Successfully uninstalled nvidia-curand-cu12-10.3.6.82\n",
            "  Attempting uninstall: nvidia-cufft-cu12\n",
            "    Found existing installation: nvidia-cufft-cu12 11.2.3.61\n",
            "    Uninstalling nvidia-cufft-cu12-11.2.3.61:\n",
            "      Successfully uninstalled nvidia-cufft-cu12-11.2.3.61\n",
            "  Attempting uninstall: nvidia-cuda-runtime-cu12\n",
            "    Found existing installation: nvidia-cuda-runtime-cu12 12.5.82\n",
            "    Uninstalling nvidia-cuda-runtime-cu12-12.5.82:\n",
            "      Successfully uninstalled nvidia-cuda-runtime-cu12-12.5.82\n",
            "  Attempting uninstall: nvidia-cuda-nvrtc-cu12\n",
            "    Found existing installation: nvidia-cuda-nvrtc-cu12 12.5.82\n",
            "    Uninstalling nvidia-cuda-nvrtc-cu12-12.5.82:\n",
            "      Successfully uninstalled nvidia-cuda-nvrtc-cu12-12.5.82\n",
            "  Attempting uninstall: nvidia-cuda-cupti-cu12\n",
            "    Found existing installation: nvidia-cuda-cupti-cu12 12.5.82\n",
            "    Uninstalling nvidia-cuda-cupti-cu12-12.5.82:\n",
            "      Successfully uninstalled nvidia-cuda-cupti-cu12-12.5.82\n",
            "  Attempting uninstall: nvidia-cublas-cu12\n",
            "    Found existing installation: nvidia-cublas-cu12 12.5.3.2\n",
            "    Uninstalling nvidia-cublas-cu12-12.5.3.2:\n",
            "      Successfully uninstalled nvidia-cublas-cu12-12.5.3.2\n",
            "  Attempting uninstall: nvidia-cusparse-cu12\n",
            "    Found existing installation: nvidia-cusparse-cu12 12.5.1.3\n",
            "    Uninstalling nvidia-cusparse-cu12-12.5.1.3:\n",
            "      Successfully uninstalled nvidia-cusparse-cu12-12.5.1.3\n",
            "  Attempting uninstall: nvidia-cudnn-cu12\n",
            "    Found existing installation: nvidia-cudnn-cu12 9.3.0.75\n",
            "    Uninstalling nvidia-cudnn-cu12-9.3.0.75:\n",
            "      Successfully uninstalled nvidia-cudnn-cu12-9.3.0.75\n",
            "  Attempting uninstall: nvidia-cusolver-cu12\n",
            "    Found existing installation: nvidia-cusolver-cu12 11.6.3.83\n",
            "    Uninstalling nvidia-cusolver-cu12-11.6.3.83:\n",
            "      Successfully uninstalled nvidia-cusolver-cu12-11.6.3.83\n",
            "Successfully installed nvidia-cublas-cu12-12.4.5.8 nvidia-cuda-cupti-cu12-12.4.127 nvidia-cuda-nvrtc-cu12-12.4.127 nvidia-cuda-runtime-cu12-12.4.127 nvidia-cudnn-cu12-9.1.0.70 nvidia-cufft-cu12-11.2.1.3 nvidia-curand-cu12-10.3.5.147 nvidia-cusolver-cu12-11.6.1.9 nvidia-cusparse-cu12-12.3.1.170 nvidia-nvjitlink-cu12-12.4.127\n"
          ]
        }
      ]
    },
    {
      "cell_type": "markdown",
      "source": [
        "\n",
        "### **🔹 Paso 2: Código completo**  \n",
        "\n"
      ],
      "metadata": {
        "id": "7S-6P-SjDPw5"
      }
    },
    {
      "cell_type": "code",
      "source": [
        "import torch\n",
        "import torch.nn as nn\n",
        "import torch.optim as optim\n",
        "import torchvision\n",
        "import torchvision.datasets as datasets\n",
        "import torchvision.transforms as transforms\n",
        "from torch.utils.data import DataLoader\n",
        "import matplotlib.pyplot as plt\n",
        "import numpy as np"
      ],
      "metadata": {
        "id": "ZcsLxfilHiht"
      },
      "execution_count": 3,
      "outputs": []
    },
    {
      "cell_type": "code",
      "source": [
        "# Configuración\n",
        "device = torch.device(\"cuda\" if torch.cuda.is_available() else \"cpu\")\n",
        "lr = 0.0002\n",
        "batch_size = 64\n",
        "image_size = 28 * 28  # MNIST: 28x28\n",
        "noise_dim = 100  # Dimensión del ruido de entrada al generador\n",
        "epochs = 20"
      ],
      "metadata": {
        "id": "rtGXWI-SHi53"
      },
      "execution_count": 4,
      "outputs": []
    },
    {
      "cell_type": "code",
      "source": [
        "# Cargar MNIST\n",
        "transform = transforms.Compose([\n",
        "    transforms.ToTensor(),\n",
        "    transforms.Normalize((0.5,), (0.5,))  # Normalizar a [-1, 1]\n",
        "])\n",
        "dataset = datasets.MNIST(root=\"data/\", transform=transform, download=True)\n",
        "loader = DataLoader(dataset, batch_size=batch_size, shuffle=True)\n"
      ],
      "metadata": {
        "id": "QM3aZfckHjP8"
      },
      "execution_count": 5,
      "outputs": []
    },
    {
      "cell_type": "code",
      "source": [
        "# Definir el Generador (Generator)\n",
        "class Generator(nn.Module):\n",
        "    def __init__(self, noise_dim, image_size):\n",
        "        super().__init__()\n",
        "        self.net = nn.Sequential(\n",
        "            nn.Linear(noise_dim, 256),\n",
        "            nn.LeakyReLU(0.2),\n",
        "            nn.Linear(256, 512),\n",
        "            nn.LeakyReLU(0.2),\n",
        "            nn.Linear(512, image_size),\n",
        "            nn.Tanh()  # Normaliza la salida a [-1, 1] (como las imágenes)\n",
        "        )\n",
        "\n",
        "    def forward(self, x):\n",
        "        return self.net(x)"
      ],
      "metadata": {
        "id": "dFKD78ZLIoRa"
      },
      "execution_count": 6,
      "outputs": []
    },
    {
      "cell_type": "code",
      "source": [
        "# Definir el Discriminador (Discriminator)\n",
        "class Discriminator(nn.Module):\n",
        "    def __init__(self, image_size):\n",
        "        super().__init__()\n",
        "        self.net = nn.Sequential(\n",
        "            nn.Linear(image_size, 512),\n",
        "            nn.LeakyReLU(0.2),\n",
        "            nn.Linear(512, 256),\n",
        "            nn.LeakyReLU(0.2),\n",
        "            nn.Linear(256, 1),\n",
        "            nn.Sigmoid()  # Probabilidad de que sea real (0=falso, 1=real)\n",
        "        )\n",
        "\n",
        "    def forward(self, x):\n",
        "        return self.net(x)\n"
      ],
      "metadata": {
        "id": "ZylvBLnmIpVI"
      },
      "execution_count": 7,
      "outputs": []
    },
    {
      "cell_type": "code",
      "source": [
        "# Inicializar modelos\n",
        "gen = Generator(noise_dim, image_size).to(device)\n",
        "disc = Discriminator(image_size).to(device)\n"
      ],
      "metadata": {
        "id": "Te_X51VqIwkp"
      },
      "execution_count": null,
      "outputs": []
    },
    {
      "cell_type": "code",
      "source": [
        "# Optimizadores (Adam funciona bien para GANs)\n",
        "opt_gen = optim.Adam(gen.parameters(), lr=lr)\n",
        "opt_disc = optim.Adam(disc.parameters(), lr=lr)\n"
      ],
      "metadata": {
        "id": "hFhZV6uQI165"
      },
      "execution_count": 8,
      "outputs": []
    },
    {
      "cell_type": "code",
      "source": [
        "# Función de pérdida (Binary Cross Entropy)\n",
        "criterion = nn.BCELoss()\n"
      ],
      "metadata": {
        "id": "rahQ9NXRI3S_"
      },
      "execution_count": 9,
      "outputs": []
    },
    {
      "cell_type": "code",
      "source": [
        "# Entrenamiento\n",
        "for epoch in range(epochs):\n",
        "    for batch_idx, (real, _) in enumerate(loader):\n",
        "        real = real.view(-1, image_size).to(device)\n",
        "        batch_size = real.shape[0]\n",
        "\n",
        "        # Entrenar el Discriminador (maximizar log(D(x)) + log(1 - D(G(z))))\n",
        "        noise = torch.randn(batch_size, noise_dim).to(device)\n",
        "        fake = gen(noise)\n",
        "\n",
        "        # Predicciones del discriminador\n",
        "        disc_real = disc(real).view(-1)\n",
        "        disc_fake = disc(fake.detach()).view(-1)\n",
        "\n",
        "        # Pérdida del discriminador\n",
        "        loss_disc_real = criterion(disc_real, torch.ones_like(disc_real))  # Etiqueta \"1\" (real)\n",
        "        loss_disc_fake = criterion(disc_fake, torch.zeros_like(disc_fake))  # Etiqueta \"0\" (fake)\n",
        "        loss_disc = (loss_disc_real + loss_disc_fake) / 2\n",
        "\n",
        "        # Backpropagation\n",
        "        disc.zero_grad()\n",
        "        loss_disc.backward()\n",
        "        opt_disc.step()\n",
        "\n",
        "        # Entrenar el Generador (minimizar log(1 - D(G(z))) → maximizar log(D(G(z))))\n",
        "        output = disc(fake).view(-1)\n",
        "        loss_gen = criterion(output, torch.ones_like(output))  # Engañar al discriminador\n",
        "\n",
        "        # Backpropagation\n",
        "        gen.zero_grad()\n",
        "        loss_gen.backward()\n",
        "        opt_gen.step()\n",
        "\n",
        "        # Mostrar progreso\n",
        "        if batch_idx == 0:\n",
        "            print(f\"Epoch [{epoch}/{epochs}] | Loss D: {loss_disc:.4f}, Loss G: {loss_gen:.4f}\")\n"
      ],
      "metadata": {
        "colab": {
          "base_uri": "https://localhost:8080/"
        },
        "id": "GdPsvTuHI4jP",
        "outputId": "3f19519a-d8d3-4b35-a63e-3a94fb486d74"
      },
      "execution_count": 10,
      "outputs": [
        {
          "output_type": "stream",
          "name": "stdout",
          "text": [
            "Epoch [0/20] | Loss D: 0.3432, Loss G: 2.5095\n",
            "Epoch [1/20] | Loss D: 0.4300, Loss G: 2.3533\n",
            "Epoch [2/20] | Loss D: 0.2999, Loss G: 1.6934\n",
            "Epoch [3/20] | Loss D: 0.4009, Loss G: 1.8169\n",
            "Epoch [4/20] | Loss D: 0.2663, Loss G: 2.2756\n",
            "Epoch [5/20] | Loss D: 0.2863, Loss G: 2.0392\n",
            "Epoch [6/20] | Loss D: 0.4493, Loss G: 1.8545\n",
            "Epoch [7/20] | Loss D: 0.4062, Loss G: 2.1153\n",
            "Epoch [8/20] | Loss D: 0.3749, Loss G: 2.4132\n",
            "Epoch [9/20] | Loss D: 0.4333, Loss G: 2.0563\n",
            "Epoch [10/20] | Loss D: 0.4124, Loss G: 2.5725\n",
            "Epoch [11/20] | Loss D: 0.3540, Loss G: 1.5321\n",
            "Epoch [12/20] | Loss D: 0.4128, Loss G: 2.0162\n",
            "Epoch [13/20] | Loss D: 0.3342, Loss G: 1.8550\n",
            "Epoch [14/20] | Loss D: 0.3793, Loss G: 2.3957\n",
            "Epoch [15/20] | Loss D: 0.4021, Loss G: 1.6906\n",
            "Epoch [16/20] | Loss D: 0.4421, Loss G: 1.8504\n",
            "Epoch [17/20] | Loss D: 0.4985, Loss G: 1.4448\n",
            "Epoch [18/20] | Loss D: 0.3476, Loss G: 2.3129\n",
            "Epoch [19/20] | Loss D: 0.4077, Loss G: 2.2841\n"
          ]
        }
      ]
    },
    {
      "cell_type": "code",
      "source": [
        "\n",
        "# Generar ejemplos después del entrenamiento\n",
        "with torch.no_grad():\n",
        "    noise = torch.randn(16, noise_dim).to(device)\n",
        "    generated = gen(noise).view(-1, 1, 28, 28).cpu()\n",
        "\n",
        "    # Visualizar imágenes generadas\n",
        "    fig, axes = plt.subplots(4, 4, figsize=(8, 8))\n",
        "    for i, ax in enumerate(axes.flatten()):\n",
        "        ax.imshow(generated[i].squeeze(), cmap=\"gray\")\n",
        "        ax.axis(\"off\")\n",
        "    plt.show()\n"
      ],
      "metadata": {
        "colab": {
          "base_uri": "https://localhost:8080/",
          "height": 1000
        },
        "id": "Bw4PGvq1DePv",
        "outputId": "bdec7be4-aae4-4351-caa3-4c2474ac7580"
      },
      "execution_count": 2,
      "outputs": [
        {
          "output_type": "stream",
          "name": "stderr",
          "text": [
            "100%|██████████| 9.91M/9.91M [00:00<00:00, 18.2MB/s]\n",
            "100%|██████████| 28.9k/28.9k [00:00<00:00, 613kB/s]\n",
            "100%|██████████| 1.65M/1.65M [00:00<00:00, 4.87MB/s]\n",
            "100%|██████████| 4.54k/4.54k [00:00<00:00, 6.35MB/s]\n"
          ]
        },
        {
          "output_type": "stream",
          "name": "stdout",
          "text": [
            "Epoch [0/20] | Loss D: 0.7273, Loss G: 0.7333\n",
            "Epoch [1/20] | Loss D: 0.0748, Loss G: 4.0225\n",
            "Epoch [2/20] | Loss D: 0.4753, Loss G: 1.9520\n",
            "Epoch [3/20] | Loss D: 0.2543, Loss G: 2.7610\n",
            "Epoch [4/20] | Loss D: 0.3419, Loss G: 2.8829\n",
            "Epoch [5/20] | Loss D: 0.2053, Loss G: 3.1521\n",
            "Epoch [6/20] | Loss D: 0.6380, Loss G: 3.2071\n",
            "Epoch [7/20] | Loss D: 0.2150, Loss G: 2.5107\n",
            "Epoch [8/20] | Loss D: 0.2504, Loss G: 3.0481\n",
            "Epoch [9/20] | Loss D: 0.3398, Loss G: 3.2201\n",
            "Epoch [10/20] | Loss D: 0.3494, Loss G: 2.9775\n",
            "Epoch [11/20] | Loss D: 0.4307, Loss G: 2.8830\n",
            "Epoch [12/20] | Loss D: 0.3410, Loss G: 2.9362\n",
            "Epoch [13/20] | Loss D: 0.2695, Loss G: 3.6377\n",
            "Epoch [14/20] | Loss D: 0.2777, Loss G: 2.1526\n",
            "Epoch [15/20] | Loss D: 0.3784, Loss G: 1.8714\n",
            "Epoch [16/20] | Loss D: 0.3213, Loss G: 2.3526\n",
            "Epoch [17/20] | Loss D: 0.3466, Loss G: 1.7276\n",
            "Epoch [18/20] | Loss D: 0.2488, Loss G: 2.2774\n",
            "Epoch [19/20] | Loss D: 0.3390, Loss G: 1.8524\n"
          ]
        },
        {
          "output_type": "display_data",
          "data": {
            "text/plain": [
              "<Figure size 800x800 with 16 Axes>"
            ],
            "image/png": "[encoded data removed]"
          },
          "metadata": {}
        }
      ]
    },
    {
      "cell_type": "code",
      "source": [],
      "metadata": {
        "id": "t45RICqlEZGJ"
      },
      "execution_count": null,
      "outputs": []
    },
    {
      "cell_type": "code",
      "source": [],
      "metadata": {
        "id": "PwmVN1FxEZWf"
      },
      "execution_count": null,
      "outputs": []
    },
    {
      "cell_type": "code",
      "source": [],
      "metadata": {
        "id": "HY2WRZaUEZlH"
      },
      "execution_count": null,
      "outputs": []
    },
    {
      "cell_type": "code",
      "source": [],
      "metadata": {
        "id": "Z13_zklfEZ1d"
      },
      "execution_count": null,
      "outputs": []
    },
    {
      "cell_type": "markdown",
      "source": [
        "\n",
        "# Próximos pasos o posibles mejoras.\n",
        "\n",
        "  \n"
      ],
      "metadata": {
        "id": "ZZHrocXjDwlF"
      }
    },
    {
      "cell_type": "markdown",
      "source": [
        "## DCGAN\n",
        "\n",
        "Usar **convoluciones (DCGAN)** para imágenes más realistas.\n",
        "\n",
        "### Caso de uso en Pytorch"
      ],
      "metadata": {
        "id": "9UBwqHUnLqcS"
      }
    },
    {
      "cell_type": "markdown",
      "source": [
        "https://pytorch.org/tutorials/beginner/dcgan_faces_tutorial.html"
      ],
      "metadata": {
        "id": "a5z-0M_SLnLF"
      }
    },
    {
      "cell_type": "markdown",
      "source": [
        "### Caso de uso 2: generar Steam banners\n",
        "\n",
        "Train a DCGAN model on Colaboratory to generate Steam banners. https://github.com/woctezuma/google-colab\n",
        "\n"
      ],
      "metadata": {
        "id": "aCsaMnPGNIRt"
      }
    },
    {
      "cell_type": "markdown",
      "source": [
        "# Material anexo, complementario\n",
        "\n",
        "- Generating Faces with StyleGAN3 [[Video]](https://www.youtube.com/watch?v=VcI2o1yEQa0&list=PLjy4p-07OYzulelvJ5KVaT2pDlxivl_BN) [[Notebook]](https://colab.research.google.com/github/jeffheaton/t81_558_deep_learning/blob/master/t81_558_class_07_2_train_gan.ipynb)"
      ],
      "metadata": {
        "id": "fJqQXxuQMTHy"
      }
    }
  ]
}